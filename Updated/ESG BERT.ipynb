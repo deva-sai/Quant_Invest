{
 "cells": [
  {
   "cell_type": "code",
   "execution_count": 18,
   "id": "cb8da4ca-4095-49e0-80ae-7cbee58214bc",
   "metadata": {},
   "outputs": [
    {
     "name": "stderr",
     "output_type": "stream",
     "text": [
      "[nltk_data] Downloading package punkt to\n",
      "[nltk_data]     C:\\Users\\HP\\AppData\\Roaming\\nltk_data...\n",
      "[nltk_data]   Package punkt is already up-to-date!\n",
      "[nltk_data] Downloading package punkt to\n",
      "[nltk_data]     C:\\Users\\HP\\AppData\\Roaming\\nltk_data...\n",
      "[nltk_data]   Package punkt is already up-to-date!\n"
     ]
    }
   ],
   "source": [
    "import nltk\n",
    "nltk.download('punkt')\n",
    "import fitz  # PyMuPDF\n",
    "from transformers import AutoTokenizer, AutoModelForSequenceClassification, pipeline\n",
    "import re\n",
    "import pandas as pd\n",
    "import nltk\n",
    "from nltk.tokenize import sent_tokenize\n",
    "from tqdm.notebook import tqdm  # To show progress\n",
    "\n",
    "# Download NLTK data\n",
    "nltk.download('punkt')\n",
    "from nltk.tokenize import sent_tokenize\n"
   ]
  },
  {
   "cell_type": "code",
   "execution_count": 23,
   "id": "4fed55bf-89bf-4229-9b44-808cc706abd3",
   "metadata": {},
   "outputs": [
    {
     "name": "stderr",
     "output_type": "stream",
     "text": [
      "Token indices sequence length is longer than the specified maximum sequence length for this model (748 > 512). Running this sequence through the model will result in indexing errors\n"
     ]
    },
    {
     "name": "stdout",
     "output_type": "stream",
     "text": [
      "The CSR report has 2,154 sentences\n"
     ]
    },
    {
     "data": {
      "application/vnd.jupyter.widget-view+json": {
       "model_id": "5272b59329bf49ef92dfcb8a83f35a90",
       "version_major": 2,
       "version_minor": 0
      },
      "text/plain": [
       "  0%|          | 0/69 [00:00<?, ?it/s]"
      ]
     },
     "metadata": {},
     "output_type": "display_data"
    },
    {
     "name": "stdout",
     "output_type": "stream",
     "text": [
      "                                                 score\n",
      "label                                                 \n",
      "Employee_Engagement_Inclusion_And_Diversity   0.774872\n",
      "Human_Rights_And_Community_Relations          0.718000\n",
      "Labor_Practices                               0.676128\n",
      "Business_Ethics                               0.668220\n",
      "Management_Of_Legal_And_Regulatory_Framework  0.650603\n",
      "Supply_Chain_Management                       0.601165\n",
      "Systemic_Risk_Management                      0.584649\n",
      "Data_Security                                 0.564688\n",
      "Director_Removal                              0.532769\n",
      "Access_And_Affordability                      0.520689\n",
      "Physical_Impacts_Of_Climate_Change            0.520122\n",
      "Product_Design_And_Lifecycle_Management       0.518621\n",
      "Energy_Management                             0.508104\n",
      "Waste_And_Hazardous_Materials_Management      0.445777\n",
      "Employee_Health_And_Safety                    0.433264\n",
      "Competitive_Behavior                          0.404748\n",
      "Business_Model_Resilience                     0.393837\n",
      "Customer_Privacy                              0.390636\n",
      "Ecological_Impacts                            0.230990\n",
      "Selling_Practices_And_Product_Labeling        0.205970\n",
      "Customer_Welfare                              0.191270\n",
      "GHG_Emissions                                 0.091193\n"
     ]
    }
   ],
   "source": [
    "# Load the tokenizer and model\n",
    "tokenizer = AutoTokenizer.from_pretrained(\"nbroad/ESG-BERT\")\n",
    "model = AutoModelForSequenceClassification.from_pretrained(\"nbroad/ESG-BERT\")\n",
    "\n",
    "# Create the pipeline for text classification\n",
    "classifier = pipeline('text-classification', model=model, tokenizer=tokenizer)\n",
    "\n",
    "# Define a class to parse PDF documents from file path using PyMuPDF\n",
    "class PDFParser:\n",
    "    def __init__(self, file_path):\n",
    "        self.file_path = file_path\n",
    "        self.text = self._extract_text()\n",
    "\n",
    "    def _extract_text(self):\n",
    "        doc = fitz.open(self.file_path)\n",
    "        text = \"\"\n",
    "        for page_num in range(len(doc)):\n",
    "            page = doc.load_page(page_num)\n",
    "            text += page.get_text()\n",
    "        return text\n",
    "\n",
    "    def get_text(self):\n",
    "        return self.text\n",
    "\n",
    "    def get_text_clean(self):\n",
    "        text = self.text\n",
    "        text = re.sub(r'\\n+', ' ', text)\n",
    "        text = re.sub(r'\\s+', ' ', text)\n",
    "        return text.strip()\n",
    "\n",
    "    def get_text_clean_list(self):\n",
    "        text = self.get_text_clean()\n",
    "        text_list = sent_tokenize(text)\n",
    "        return text_list\n",
    "\n",
    "# Function to split long sentences into smaller chunks\n",
    "def split_into_chunks(text, max_length):\n",
    "    tokens = tokenizer.tokenize(text)\n",
    "    chunks = []\n",
    "    for i in range(0, len(tokens), max_length):\n",
    "        chunk = tokens[i:i + max_length]\n",
    "        chunk = tokenizer.convert_tokens_to_string(chunk)\n",
    "        chunks.append(chunk)\n",
    "    return chunks\n",
    "\n",
    "# Function to run the classifier on a PDF file\n",
    "def run_classifier(file_path):\n",
    "    pp = PDFParser(file_path)\n",
    "    sentences = pp.get_text_clean_list()\n",
    "    print(f\"The annual report has {len(sentences):,d} sentences\")\n",
    "\n",
    "    # Split long sentences into chunks\n",
    "    chunks = []\n",
    "    for sentence in sentences:\n",
    "        if len(tokenizer.tokenize(sentence)) > tokenizer.model_max_length:\n",
    "            chunks.extend(split_into_chunks(sentence, tokenizer.model_max_length))\n",
    "        else:\n",
    "            chunks.append(sentence)\n",
    "\n",
    "    # Process chunks in batches\n",
    "    results = []\n",
    "    batch_size = 32  # Adjust the batch size according to your memory capacity\n",
    "    for i in tqdm(range(0, len(chunks), batch_size)):\n",
    "        batch = chunks[i:i + batch_size]\n",
    "        # Ensure each chunk is within the max length\n",
    "        batch = [chunk if len(tokenizer.encode(chunk)) <= tokenizer.model_max_length else chunk[:tokenizer.model_max_length] for chunk in batch]\n",
    "        results.extend(classifier(batch))\n",
    "\n",
    "    df = pd.DataFrame(results)\n",
    "    return df\n",
    "\n",
    "# Example usage with a downloaded PDF file\n",
    "file_path = \"tata steel annual report.pdf\" \n",
    "df = run_classifier(file_path)\n",
    "print(df.groupby(['label']).mean().sort_values('score', ascending=False))"
   ]
  },
  {
   "cell_type": "code",
   "execution_count": 21,
   "id": "c0fd8163-935c-4c4a-80bc-28f1cfc6aaaa",
   "metadata": {},
   "outputs": [
    {
     "name": "stderr",
     "output_type": "stream",
     "text": [
      "Token indices sequence length is longer than the specified maximum sequence length for this model (649 > 512). Running this sequence through the model will result in indexing errors\n"
     ]
    },
    {
     "name": "stdout",
     "output_type": "stream",
     "text": [
      "The CSR report has 2,154 sentences\n"
     ]
    },
    {
     "data": {
      "application/vnd.jupyter.widget-view+json": {
       "model_id": "db133f97a4b444c495f60e518d2f7e55",
       "version_major": 2,
       "version_minor": 0
      },
      "text/plain": [
       "  0%|          | 0/69 [00:00<?, ?it/s]"
      ]
     },
     "metadata": {},
     "output_type": "display_data"
    },
    {
     "name": "stdout",
     "output_type": "stream",
     "text": [
      "                                                 score\n",
      "label                                                 \n",
      "Human_Rights_And_Community_Relations          0.720804\n",
      "Employee_Engagement_Inclusion_And_Diversity   0.685169\n",
      "Business_Ethics                               0.673271\n",
      "Labor_Practices                               0.670070\n",
      "Management_Of_Legal_And_Regulatory_Framework  0.654894\n",
      "Supply_Chain_Management                       0.610824\n",
      "Systemic_Risk_Management                      0.584443\n",
      "Data_Security                                 0.564688\n",
      "Director_Removal                              0.532877\n",
      "Product_Design_And_Lifecycle_Management       0.524354\n",
      "Physical_Impacts_Of_Climate_Change            0.520122\n",
      "Access_And_Affordability                      0.510279\n",
      "Energy_Management                             0.504862\n",
      "Employee_Health_And_Safety                    0.431209\n",
      "Waste_And_Hazardous_Materials_Management      0.416364\n",
      "Competitive_Behavior                          0.405797\n",
      "Business_Model_Resilience                     0.400512\n",
      "Customer_Privacy                              0.390636\n",
      "Ecological_Impacts                            0.230990\n",
      "Selling_Practices_And_Product_Labeling        0.205970\n",
      "Customer_Welfare                              0.191270\n",
      "GHG_Emissions                                 0.091193\n"
     ]
    }
   ],
   "source": [
    "# Load the tokenizer and model\n",
    "tokenizer = AutoTokenizer.from_pretrained(\"nbroad/ESG-BERT\")\n",
    "model = AutoModelForSequenceClassification.from_pretrained(\"nbroad/ESG-BERT\")\n",
    "\n",
    "# Create the pipeline for text classification\n",
    "classifier = pipeline('text-classification', model=model, tokenizer=tokenizer, truncation=True, padding=True)\n",
    "\n",
    "# Function to extract and pre-process text from a PDF file\n",
    "def extract_and_preprocess_text(file_path):\n",
    "    document = fitz.open(file_path)\n",
    "    text = \"\"\n",
    "    for page_num in range(len(document)):\n",
    "        page = document.load_page(page_num)\n",
    "        text += page.get_text(\"text\")\n",
    "    \n",
    "    # Basic preprocessing to remove text lines that look like tables or image captions\n",
    "    lines = text.split('\\n')\n",
    "    filtered_lines = []\n",
    "    for line in lines:\n",
    "        # Ignore lines with numbers/tables\n",
    "        if re.match(r'^\\d+(\\.\\d+)*$', line.strip()):\n",
    "            continue\n",
    "        # Ignore lines that are likely image captions\n",
    "        if re.match(r'Figure \\d+|Table \\d+', line.strip()):\n",
    "            continue\n",
    "        filtered_lines.append(line)\n",
    "    \n",
    "    filtered_text = '\\n'.join(filtered_lines)\n",
    "    sentences = sent_tokenize(filtered_text)\n",
    "    return sentences\n",
    "\n",
    "# Function to split long sentences into smaller chunks\n",
    "def split_into_chunks(text, max_length):\n",
    "    tokens = tokenizer.tokenize(text)\n",
    "    chunks = []\n",
    "    for i in range(0, len(tokens), max_length):\n",
    "        chunk = tokens[i:i + max_length]\n",
    "        chunk = tokenizer.convert_tokens_to_string(chunk)\n",
    "        chunks.append(chunk)\n",
    "    return chunks\n",
    "\n",
    "# Function to run the classifier on a PDF file\n",
    "def run_classifier(file_path):\n",
    "    sentences = extract_and_preprocess_text(file_path)\n",
    "    print(f\"The annual report has {len(sentences):,d} sentences\")\n",
    "\n",
    "    # Split long sentences into chunks\n",
    "    chunks = []\n",
    "    for sentence in sentences:\n",
    "        if len(tokenizer.tokenize(sentence)) > tokenizer.model_max_length:\n",
    "            chunks.extend(split_into_chunks(sentence, tokenizer.model_max_length))\n",
    "        else:\n",
    "            chunks.append(sentence)\n",
    "\n",
    "    # Process chunks in batches\n",
    "    results = []\n",
    "    batch_size = 32  \n",
    "    for i in tqdm(range(0, len(chunks), batch_size)):\n",
    "        batch = chunks[i:i + batch_size]\n",
    "        results.extend(classifier(batch))\n",
    "\n",
    "    df = pd.DataFrame(results)\n",
    "    return df\n",
    "\n",
    "# Example usage with a downloaded PDF file\n",
    "file_path = \"tata steel annual report.pdf\" \n",
    "df = run_classifier(file_path)\n",
    "print(df.groupby(['label']).mean().sort_values('score', ascending=False))"
   ]
  },
  {
   "cell_type": "code",
   "execution_count": 24,
   "id": "9b4857be-5f49-4202-a461-de5a2acd4420",
   "metadata": {},
   "outputs": [
    {
     "name": "stdout",
     "output_type": "stream",
     "text": [
      "The CSR report has 2,154 sentences\n"
     ]
    },
    {
     "data": {
      "application/vnd.jupyter.widget-view+json": {
       "model_id": "4169d02f36df49d78c01366d57ca139c",
       "version_major": 2,
       "version_minor": 0
      },
      "text/plain": [
       "  0%|          | 0/68 [00:00<?, ?it/s]"
      ]
     },
     "metadata": {},
     "output_type": "display_data"
    },
    {
     "name": "stdout",
     "output_type": "stream",
     "text": [
      "                                                 score\n",
      "label                                                 \n",
      "Employee_Engagement_Inclusion_And_Diversity   0.786158\n",
      "Human_Rights_And_Community_Relations          0.720804\n",
      "Business_Ethics                               0.673271\n",
      "Labor_Practices                               0.670070\n",
      "Management_Of_Legal_And_Regulatory_Framework  0.655406\n",
      "Supply_Chain_Management                       0.610824\n",
      "Systemic_Risk_Management                      0.588404\n",
      "Data_Security                                 0.564688\n",
      "Director_Removal                              0.532870\n",
      "Energy_Management                             0.532710\n",
      "Product_Design_And_Lifecycle_Management       0.524354\n",
      "Physical_Impacts_Of_Climate_Change            0.520122\n",
      "Access_And_Affordability                      0.510279\n",
      "Employee_Health_And_Safety                    0.431209\n",
      "Waste_And_Hazardous_Materials_Management      0.416364\n",
      "Competitive_Behavior                          0.405797\n",
      "Business_Model_Resilience                     0.400512\n",
      "Customer_Privacy                              0.390636\n",
      "Ecological_Impacts                            0.230990\n",
      "Selling_Practices_And_Product_Labeling        0.205970\n",
      "Customer_Welfare                              0.191270\n",
      "GHG_Emissions                                 0.091193\n"
     ]
    }
   ],
   "source": [
    "# Load the tokenizer and model\n",
    "tokenizer = AutoTokenizer.from_pretrained(\"nbroad/ESG-BERT\")\n",
    "model = AutoModelForSequenceClassification.from_pretrained(\"nbroad/ESG-BERT\")\n",
    "\n",
    "# Create the pipeline for text classification\n",
    "classifier = pipeline('text-classification', model=model, tokenizer=tokenizer, truncation=True, padding=True)\n",
    "\n",
    "# Function to extract and pre-process text from a PDF file\n",
    "def extract_and_preprocess_text(file_path):\n",
    "    document = fitz.open(file_path)\n",
    "    text = \"\"\n",
    "    for page_num in range(len(document)):\n",
    "        page = document.load_page(page_num)\n",
    "        text += page.get_text(\"text\")\n",
    "    \n",
    "    # Basic preprocessing to remove text lines that look like tables or image captions\n",
    "    lines = text.split('\\n')\n",
    "    filtered_lines = []\n",
    "    for line in lines:\n",
    "        # Ignore lines with numbers/tables\n",
    "        if re.match(r'^\\d+(\\.\\d+)*$', line.strip()):\n",
    "            continue\n",
    "        # Ignore lines that are likely image captions\n",
    "        if re.match(r'Figure \\d+|Table \\d+', line.strip()):\n",
    "            continue\n",
    "        filtered_lines.append(line)\n",
    "    \n",
    "    filtered_text = '\\n'.join(filtered_lines)\n",
    "    sentences = sent_tokenize(filtered_text)\n",
    "    return sentences\n",
    "\n",
    "# Function to run the classifier on a PDF file\n",
    "def run_classifier(file_path):\n",
    "    sentences = extract_and_preprocess_text(file_path)\n",
    "    print(f\"The annual report has {len(sentences):,d} sentences\")\n",
    "\n",
    "    # Process sentences in batches\n",
    "    results = []\n",
    "    batch_size = 32  # Adjust the batch size according to your memory capacity\n",
    "    for i in tqdm(range(0, len(sentences), batch_size)):\n",
    "        batch = sentences[i:i + batch_size]\n",
    "        results.extend(classifier(batch))\n",
    "\n",
    "    df = pd.DataFrame(results)\n",
    "    return df\n",
    "\n",
    "# Example usage with a downloaded PDF file\n",
    "file_path = \"tata steel annual report.pdf\"  # Replace with the actual file path\n",
    "df = run_classifier(file_path)\n",
    "print(df.groupby(['label']).mean().sort_values('score', ascending=False))"
   ]
  },
  {
   "cell_type": "code",
   "execution_count": 25,
   "id": "2748da77-8108-46c7-ad49-cfa839651e15",
   "metadata": {},
   "outputs": [
    {
     "name": "stdout",
     "output_type": "stream",
     "text": [
      "The annual report has 2,154 sentences\n",
      "                                                 score\n",
      "label                                                 \n",
      "Employee_Engagement_Inclusion_And_Diversity   0.786158\n",
      "Human_Rights_And_Community_Relations          0.720804\n",
      "Business_Ethics                               0.673271\n",
      "Labor_Practices                               0.670070\n",
      "Management_Of_Legal_And_Regulatory_Framework  0.655406\n",
      "Supply_Chain_Management                       0.610824\n",
      "Systemic_Risk_Management                      0.588404\n",
      "Data_Security                                 0.564688\n",
      "Director_Removal                              0.532870\n",
      "Energy_Management                             0.532710\n",
      "Product_Design_And_Lifecycle_Management       0.524354\n",
      "Physical_Impacts_Of_Climate_Change            0.520122\n",
      "Access_And_Affordability                      0.510279\n",
      "Employee_Health_And_Safety                    0.431209\n",
      "Waste_And_Hazardous_Materials_Management      0.416364\n",
      "Competitive_Behavior                          0.405797\n",
      "Business_Model_Resilience                     0.400512\n",
      "Customer_Privacy                              0.390636\n",
      "Ecological_Impacts                            0.230990\n",
      "Selling_Practices_And_Product_Labeling        0.205970\n",
      "Customer_Welfare                              0.191270\n",
      "GHG_Emissions                                 0.091193\n"
     ]
    }
   ],
   "source": [
    "# Load the tokenizer and model\n",
    "tokenizer = AutoTokenizer.from_pretrained(\"nbroad/ESG-BERT\")\n",
    "model = AutoModelForSequenceClassification.from_pretrained(\"nbroad/ESG-BERT\")\n",
    "\n",
    "# Create the pipeline for text classification\n",
    "classifier = pipeline('text-classification', model=model, tokenizer=tokenizer, truncation=True, padding=True)\n",
    "\n",
    "# Function to extract and pre-process text from a PDF file\n",
    "def extract_and_preprocess_text(file_path):\n",
    "    document = fitz.open(file_path)\n",
    "    text = \"\"\n",
    "    for page_num in range(len(document)):\n",
    "        page = document.load_page(page_num)\n",
    "        text += page.get_text(\"text\")\n",
    "    \n",
    "    # Basic preprocessing to remove text lines that look like tables or image captions\n",
    "    lines = text.split('\\n')\n",
    "    filtered_lines = []\n",
    "    for line in lines:\n",
    "        # Ignore lines with numbers/tables\n",
    "        if re.match(r'^\\d+(\\.\\d+)*$', line.strip()):\n",
    "            continue\n",
    "        # Ignore lines that are likely image captions\n",
    "        if re.match(r'Figure \\d+|Table \\d+', line.strip()):\n",
    "            continue\n",
    "        filtered_lines.append(line)\n",
    "    \n",
    "    filtered_text = '\\n'.join(filtered_lines)\n",
    "    sentences = sent_tokenize(filtered_text)\n",
    "    return sentences\n",
    "\n",
    "# Function to run the classifier on a PDF file\n",
    "def run_classifier(file_path):\n",
    "    sentences = extract_and_preprocess_text(file_path)\n",
    "    print(f\"The annual report has {len(sentences):,d} sentences\")\n",
    "\n",
    "    # Process all sentences at once\n",
    "    results = classifier(sentences)\n",
    "    \n",
    "    df = pd.DataFrame(results)\n",
    "    return df\n",
    "\n",
    "# Example usage with a downloaded PDF file\n",
    "file_path = \"tata steel annual report.pdf\"  # Replace with the actual file path\n",
    "df = run_classifier(file_path)\n",
    "print(df.groupby(['label']).mean().sort_values('score', ascending=False))"
   ]
  },
  {
   "cell_type": "code",
   "execution_count": null,
   "id": "8c22b196-db39-44a3-8a20-f484056f5867",
   "metadata": {},
   "outputs": [],
   "source": []
  }
 ],
 "metadata": {
  "kernelspec": {
   "display_name": "Python 3 (ipykernel)",
   "language": "python",
   "name": "python3"
  },
  "language_info": {
   "codemirror_mode": {
    "name": "ipython",
    "version": 3
   },
   "file_extension": ".py",
   "mimetype": "text/x-python",
   "name": "python",
   "nbconvert_exporter": "python",
   "pygments_lexer": "ipython3",
   "version": "3.11.5"
  }
 },
 "nbformat": 4,
 "nbformat_minor": 5
}
